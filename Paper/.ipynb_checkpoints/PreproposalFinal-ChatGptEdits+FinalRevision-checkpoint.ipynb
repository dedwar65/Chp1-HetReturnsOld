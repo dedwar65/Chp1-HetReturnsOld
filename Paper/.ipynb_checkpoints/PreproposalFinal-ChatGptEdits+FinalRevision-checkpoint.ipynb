{
 "cells": [
  {
   "cell_type": "markdown",
   "id": "64b6b7b3-c1d1-4fa1-b635-8e922cadc042",
   "metadata": {
    "tags": []
   },
   "source": [
    "## Introduction\n",
    "\n",
    "The unequal distribution of wealth is an extensively documented phenomenon in numerous countries. Regrettably, this feature has not only endured over time but also intensified in recent years. This point is stressed in a recent article from the Institute for Policy Studies (IPS), which revealed that in 2018, the total wealth of the poorest half of Americans was eclipsed by the combined wealth of the three wealthiest men in the nation. The term \\say{richest} denotes one's standing in Forbes magazine's list of the 400 richest individuals. Additionally, the IPS report notes that the combined wealth of the top five richest men on this list skyrocketed by a staggering 123% from March 2020 to October 2021.\n",
    "\n",
    "The unequal distribution of wealth has also been a subject of considerable interest throughout history in various fields. The statistics literature, for instance, focused on linking the distribution of income to the observable skewness in wealth distribution. The economics literature went further by establishing microfoundations for individual wealth outcomes. Similarly, the macroeconomics literature on inequality has seen significant growth, with the distribution of wealth among households offering insight into how the economy as a whole responds to aggregate fiscal shocks. The recent stimulus checks issued during the pandemic serve as a timely example of this phenomenon.\n",
    "\n",
    "The macroeconomics literature has undergone significant changes in recent years, with the widespread adoption of models that abandon the traditional representative agent assumption in their analysis. Specifically, a model that studies the equilibrium outcomes of an economy composed of individual decision-makers using a single aggregate agent can only have one marginal propensity to consume (MPC). As a result, in response to an aggregate fiscal shock, all households would respond similarly to a one-time stimulus check, which does not align with what transpired during the pandemic. Heterogeneous agent models have emerged as a prominent alternative, offering a more accurate representation of the diversity of economic behaviors and outcomes among households.\n",
    "\n",
    "The first departure from the representative agent framework entails positing an exogenously determined income process that generates a distribution of income among households. One common approach to incorporating heterogeneity is to adopt Friedman's (1957) description of a permanent and transitory component in the income process. To account for business cycle dynamics, one can further assume that individuals face some level of potential unemployment in each period, creating a precautionary savings motive for consumers. Given that such uncertainty cannot be fully insured against, the availability of a riskless asset that partially insures against income risk results in households choosing to hold different levels of market resources optimally.\n",
    "\n",
    "Krusell and Smith's (1998) seminal work suggests that models assuming heterogeneity in individual income perform well in matching the aggregate capital stock but poorly in matching the distribution of wealth. The resulting optimal consumption function is concave in an individual's wealth holdings, meaning that the marginal propensity to consume out of income is increasingly higher at lower levels of wealth. Therefore, a model that places too many households in the middle of the wealth distribution relative to those at lower levels will struggle to match the average MPC estimated from household data. Since our focus is on the implications of fiscal policy for the entire economy, a macroeconomic model's failure to match the observed wealth distribution in its implied equilibrium is significant.\n",
    "\n",
    "Moving beyond the standard representative agent framework, the next step is to assume greater heterogeneity among households, leading more households to optimally hold lower levels of wealth. Kaplan and Violante's (2022) recent work provides a comprehensive survey of models that reject this assumption, instead utilizing heterogeneous agent, incomplete markets models featuring (i) uninsurable idiosyncratic income risk, (ii) a precautionary savings motive, and (iii) an endogenous wealth distribution.\n",
    "\n",
    "Carroll et al. (2017) adopt the same approach and extend the model by allowing for ex-ante heterogeneity amongst households. Specifically, they assume different agents have different rates of time preference, which reflects implicit characteristics of households relevant to their lifetime wealth accumulation. The authors find that this assumption of modest heterogeneity in time preferences is sufficient to match both the shape and skewness of the empirical distribution of wealth. Furthermore, while traditional representative agent models generate an aggregate marginal propensity to consume between 0.02 and 0.04, the $\\beta$-dist model generates an aggregate MPC between 0.2 and 0.4. This range falls within the values estimated across households in the data.\n",
    "\n",
    "The household's optimal consumption-savings problem contains additional elements that could contribute to disparities in wealth accumulation over the course of one's lifetime. It is worth noting that the time preference factor $(\\beta)$ is one of the key parameters that influences an individual's equilibrium target level of market resources, but it is not directly observable. Therefore, in order to estimate $\\beta$, one would need to gather data through surveys or other methods that allow for the direct acquisition of information from households.\n",
    "\n",
    "On the other hand, estimating differences in the rate of return to financial assets across households is possible, as this variable \\textit{is} directly observable. Empirical research has been conducted to estimate such differences, with a recent example being the work of Fagereng, Guiso, Malacrino, and Pistaferri (2020). They analyzed 12 years of administrative tax records on capital income and wealth stock for all taxpayers in Norway from 2004-2015 to estimate these rates of return.\n",
    "\n",
    "This paper aims to enhance the computational, heterogeneous agent modelling framework by integrating recent empirical evidence on disparities in rates of return among households. The objective is to better align the observed wealth distribution with the model predictions, thereby generating more realistic estimates of the average marginal propensity to consume among households."
   ]
  },
  {
   "cell_type": "markdown",
   "id": "ac1a18e6-bfc9-4085-8c6b-68cfca8634be",
   "metadata": {},
   "source": [
    "## Literature Review\n",
    "\n",
    "This study draws on and contributes to various strands of economic literature. First and foremost, as the primary focus of models in this field is the distribution of wealth, research on the distribution and skewness in wealth holdings across individuals provides valuable insights for this paper. Benhabib and Bisin (2018) conducted a thorough review of the literature on this topic, including theoretical explanations of the unequal distribution of wealth, historical accounts of its origins, and attempts to provide microfoundations for this phenomenon\\footnote{In particular, the emergence of heterogeneous agent models has been a significant development in investigating this issue.}. Furthermore, recent research by Saez and Zucman (2014) has utilized empirical methods to estimate the distribution of wealth in the United States, drawing on income tax data from the Internal Revenue Service.\n",
    "\n",
    "This study builds on the existing literature on heterogeneous agent models and the marginal propensity to consume. Kaplan and Violante (2022) have conducted an extensive analysis of different classes of models in this area, highlighting their strengths and potential drawbacks. Notably, they find that models with a single asset generate a marginal propensity to consume that is too low compared to empirical data. While incorporating ex-ante heterogeneity or behavioral preferences can generate a larger MPC, these models tend to suffer from a \\say{missing middle} problem - an equilibrium distribution that is overly polarized at the extremes and underestimates the wealth held by middle-income households. As a result, it is worth exploring whether a model that includes one asset, a precautionary savings motive, and ex-ante heterogeneous rates of return also exhibits this shortcoming.\n",
    "\n",
    "Krusell and Smith (1998) have developed a model that considers both idiosyncratic and aggregate risk in a household's optimization problem. As an additional exercise, they incorporate heterogeneity in time preference to explain the shape of the wealth distribution. More recently, Carroll, Slacalek, Tokuoka, and White (2017) have updated the model to include income and time preference heterogeneity, with a more realistic income process that accounts for permanent and transitory shocks to household income. The model's analytical framework is flexible enough to accommodate other potential sources of ex-ante heterogeneity, which can be seen in one of its key equilibrium conditions - the Growth Impatience Condition (GIC):\n",
    "\n",
    "$$\\require{cancel}$$  \n",
    "\n",
    "$$\n",
    "\\frac{(R \\beta)^{\\frac{1}{\\rho}} \\mathbb{E}[\\psi^{-1}] \\cancel{D}}{\\Gamma} < 1\n",
    "$$\n",
    "\n",
    "The rationale behind incorporating heterogeneity in rates of return to asset holdings lies in the wealth of empirical research that seeks to quantify the differences in returns among individuals. Fagereng, Guiso, Malacrino, and Pistaferri (2020) offer an extensive overview of the role that heterogeneous rates of returns play in wealth distribution, as well as conducting their own systematic analysis of return heterogeneity using 12 years of data from Norway's administrative tax records. The authors' findings reveal that the average returns to assets for individuals have a standard deviation of approximately 22%. Moreover, they demonstrate that this discovery of heterogeneous returns exhibits significant persistence over time.\n",
    "\n",
    "Bach, Calvet, and Sodini (2018) provide more evidence towards the assumption of ex-ante heterogeneity in households' rates of return, as they employ administrative panel data on the balance sheets of Swedish residents to gauge historical and expected returns, as well as risks associated with asset holdings. Like previous studies, they also find that heterogeneous returns play a considerable role in the levels and growth of top wealth shares over time. These recent empirical findings serve as a compelling basis for the model presented in this paper.\n",
    "\n",
    "Given the observed disparities in asset returns, computational macroeconomic models have emerged that incorporate this heterogeneity across households. One notable example is the recent work by Guler, Kuruscu, and Robinson (2022), which develops a life-cycle model that provides a comprehensive description of households' optimal decision-making. In addition to the standard consumption-savings behavior, their model also considers optimal choices regarding housing and mortgage decisions. Such modeling choices are relevant for creating a structural model that captures the size and skewness of the wealth distribution, as a larger number of individuals actively engage with the housing market than with financial markets. Furthermore, these modeling choices enable the authors to investigate the effects of aggregate fiscal shocks, including one-time stimulus payments and mortgage debt relief programs.\n",
    "\n",
    "The following two papers present a comparable framework. The first, by Benhabib, Bisin, and Zhu (2011), proposes an overlapping generations model that incorporates intergenerational wealth transfers. There, agents face uncertainty regarding both labor and capital income. The key distinction between this model and the one to be presented is that capital income is assumed to be governed by a stochastic process (along with labor income) rather than arising from ex-ante heterogeneity in the return to asset holdings. Benhabib, Bisin, and Luo (2017) undertake a similar exercise, where household preferences for bequests to the next generation are more explicitly defined. Both papers conclude that the distribution of earnings and differences in rates of savings and bequests are crucial in matching the characteristics of the observed wealth distribution's tail ends."
   ]
  },
  {
   "cell_type": "markdown",
   "id": "17ef3573-f70b-440f-a009-923a228fa9a9",
   "metadata": {},
   "source": [
    "## Model \n",
    "\n",
    "### 3.1 \n",
    "\n",
    "Each household's income $(y_t)$ during a given period depends on three main factors. The first factor is the aggregate wage rate $(W_t)$ that all households in the economy face. The second factor is the permanent income component $(p_t)$, which represents an agent's present discounted value of human wealth. Lastly, the transitory shock component $(\\xi_t)$ reflects the potential risks that households may face in receiving their income payment during that period.\n",
    "\n",
    "The level of permanent income for each household is subject to a stochastic process. In line with Friedman's (1957) description of the labor income process, we assume that this process follows a geometric random walk, which can be expressed as:\n",
    "\n",
    "The white noise permanent shock to income with a mean of one is represented by $\\psi_t$, which is a significant component of household income. The probability of receiving income during a given period is determined by the transitory component, which is modeled to reflect the potential risks associated with becoming unemployed. Specifically, if the probability of becoming unemployed is $\\mho$, the agent will receive unemployment insurance payments of $\\mu > 0$. On the other hand, if the agent is employed, which occurs with a probability of $(1 − \\mho)$, the model allows for tax payments $\\tau_t$ to be collected as insurance for periods of unemployment. The transitory component is then represented as:\n",
    "\n",
    "where $l$ is the time worked per agent and the parameter $\\theta$ captures the white noise component of the transitory shock.\n",
    "\n",
    "### 3.2 \n",
    "\n",
    "This paragraph presents the baseline version of the household's optimization problem for consumption-savings decisions, assuming no ex-ante heterogeneity. In this case, each household aims to maximize its expected discounted utility of consumption $u(c) = \\frac{c^{1-\\rho}}{1-\\rho}$ by solving the following equation:\n",
    "\n",
    "It's worth noting that the setting described here follows a perpetual youth model of buffer stock savings, similar to the seminal work of Krusell and Smith (1998). To solve this problem, we use the bellman equation, which means that the sequence of consumption functions $\\{c_{t+n}^{\\infty}_{n=0}\\}$ associated with a household's optimal choice over a lifetime must satisfy the following equation:\n",
    "\n",
    "### 3.2.1\n",
    "\n",
    "If we want to explore how different returns to assets can affect the endogenous wealth distribution, it's important to examine the following decomposition of a household's evolution of market resources over time:\n",
    "\n",
    "It's worth recalling that in this model, the rate of return to capital is represented as $(\\daleth + r_t)$. This rate of return is directly related to the endogenous level of wealth, which is determined by the level of capital $K_{t+1}$. Therefore, if there are differences in the rate of return across households, this will result in further disparities in wealth holdings."
   ]
  },
  {
   "cell_type": "markdown",
   "id": "06b12d8d-c799-4161-ac68-a3c1396d8910",
   "metadata": {},
   "source": [
    "## Results\n",
    "\n",
    "### 4.1.1\n",
    "\n",
    "In Carroll, Slacalek, Tokuoka, and White's (2017) baseline model, heterogeneity in the time preference factor is not accounted for. However, to address this, the model is extended to include this factor. This is done by assuming that different types of households have a time preference factor drawn uniformly from the interval $(\\grave{\\beta} - \\nabla, \\grave{\\beta} + \\nabla)$, where $\\nabla$ represents the level of dispersion. Afterward, the model is simulated to estimate the values of both $\\grave{\\beta}$ and $\\nabla$ so that the model matches the inequality in the wealth distribution. To achieve this, the following minimization problem is solved:\n",
    "\n",
    "### 4.1.2 \n",
    "\n",
    "The $\\beta$-dist model proves to be useful in a setting where there are heterogeneous time preference factors since it captures an unobservable component of a household's decision-making process. While the microeconomics literature has put in considerable effort to estimate this parameter, there is currently no consensus on its value.\n",
    "\n",
    "Recent studies by Fagereng, Guiso, Malacrino, and Pistaferri (2020) and Bach, Calvet, and Sodini (2018) have not only estimated the rate of return on asset holdings but have also uncovered significant heterogeneity across households. Given this motivation, the revised model assumes the existence of multiple types of agents, each earning a distinct rate of return on their assets. A calibration exercise akin to the one used in the $\\beta$-dist model is then performed. The crucial next step involves comparing the resulting endogenous distribution from simulating this calibrated model to its empirical counterpart to determine if there is an ex-ante distribution of rates of return that can match the observable inequality in the wealth distribution. If a distribution of returns to asset holdings satisfies this criterion, the final step involves reconciling this model heterogeneity with the observed differences in rates of return found in the aforementioned literature.\n",
    "\n",
    "### 4.2 \n",
    "\n",
    "Following the analysis of the wealth distribution, the policy implications of heterogeneous rates of return will be examined by evaluating the impact of a one-time stimulus payment to all households on key macroeconomic variables (such as consumption, capital, and output).\n",
    "\n",
    "My suspicion is that if the model provides a better match to the inequality in the distribution of wealth compared to the case where all households earn the same rate of return on their assets, there will be greater dispersion in the marginal propensity to consume across households. Consequently, this should result in different consumption and saving behavior among households in response to a one-time shock to income. As a result, the aggregate implications of the policy shock in this setting are expected to differ significantly from the setting where there is no heterogeneity in the rate of return.\n",
    "\n",
    "I aim to compare the policy implications of this computational model with the actual consumption and saving behavior of households during the recent pandemic, which was characterized by the provision of several stimulus checks by the government. However, I am currently concerned about the feasibility of this final step in the project."
   ]
  },
  {
   "cell_type": "markdown",
   "id": "3b05e5c1-9423-40c9-b742-828362a5ee3d",
   "metadata": {},
   "source": [
    "## Directions for future research\n",
    "\n",
    "Similar to how assuming ex-ante heterogeneous rates of time preference may capture implicit household characteristics such as optimism or pessimism that affect wealth accumulation, \\textit{the assumption of varying rates of return could be capturing factors that are relevant to wealth distribution}. This opens up the possibility of research that seeks to establish a relationship between levels of trust in financial institutions and the rates of return received by households on their asset holdings. While some studies in the literature (such as Guiso, Sapienza, and Zingales (2008) and Butler, Giuliano, and Guiso (2016)) have compared differences in trust levels to relevant economic factors, the novelty of the datasets used to estimate heterogeneity in rates of return means that the link between trust and returns to financial assets remains unexplored in empirical research.\n",
    "\n",
    "To credibly assert that differences in trust levels are a source of the heterogeneity in rates of return among households, two questions must be addressed: (i) what factors could make some households more distrustful of financial institutions than others? and (ii) what mechanisms could cause a household with lower trust to earn less on the same level of assets than a more trusting household?\n",
    "\n",
    "To address question (i), a potential explanation for households to have less trust in financial institutions is their past interactions with actors in the financial system. The issue of consumer fees for banking services is a historically relevant policy concern, and the literature, such as Adams (2017), has sought to establish a relationship between consumer characteristics and the structure of banking fees. If individuals feel slighted in their past dealings with financial institutions, it is reasonable to suspect that these individuals will have less trust in financial services. Another explanation for different levels of trust among American households, albeit less quantitative, is the history of discrimination in the financial sector for certain subpopulations. Baradaran's (2017) excellent book highlights how \"black and white Americans have had a separate and unequal system of banking and credit.\" Given the stylized empirical finding of a racial wealth gap between these groups, incorporating a notion of trust into the computational model aimed at matching wealth data may be a fruitful avenue for developing a heterogeneous agent model that can account for racial differences in asset holdings. \n",
    "\n",
    "Regarding (ii), one potential link between trust and rates of return is the role of financial literacy in navigating the use of financial services. For instance, Deuflhard, Georgarakos, and Inderst (2014) found a significant correlation between financial sophistication and heterogeneous rates of return to financial assets. This finding leads to the following line of inquiry: if certain households have a general distrust in financial institutions, to what extent do they invest in improving their financial literacy and sophistication? This question is particularly relevant for understanding racial disparities in wealth accumulation."
   ]
  },
  {
   "cell_type": "code",
   "execution_count": null,
   "id": "faa22561",
   "metadata": {},
   "outputs": [],
   "source": []
  }
 ],
 "metadata": {
  "kernelspec": {
   "display_name": "Python 3 (ipykernel)",
   "language": "python",
   "name": "python3"
  },
  "language_info": {
   "codemirror_mode": {
    "name": "ipython",
    "version": 3
   },
   "file_extension": ".py",
   "mimetype": "text/x-python",
   "name": "python",
   "nbconvert_exporter": "python",
   "pygments_lexer": "ipython3",
   "version": "3.8.16"
  }
 },
 "nbformat": 4,
 "nbformat_minor": 5
}
